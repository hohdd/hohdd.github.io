{
 "cells": [
  {
   "cell_type": "code",
   "execution_count": 10,
   "metadata": {},
   "outputs": [],
   "source": [
    "import json\n",
    "\n",
    "def process_data(data):\n",
    "    \"\"\"\n",
    "    Xử lý dữ liệu và trả về một dictionary cho JSON.\n",
    "\n",
    "    Args:\n",
    "        data: Danh sách các dòng trong file.\n",
    "\n",
    "    Returns:\n",
    "        Một dictionary chứa thông tin về các kanji.\n",
    "    \"\"\"\n",
    "\n",
    "    result = {}\n",
    "    current_kanji = None\n",
    "    current_object = None\n",
    "    count_flag = 0\n",
    "    tu_dongtu = None\n",
    "    tha_dongtu = None\n",
    "\n",
    "    for line in data:\n",
    "        line = line.strip()\n",
    "        if line:\n",
    "            if count_flag == 0:\n",
    "                current_kanji = line[0]  # Lấy ký tự đầu tiên của dòng\n",
    "            if line.endswith(\"(tự V)\"):\n",
    "                count_flag += 1\n",
    "                tu_dongtu = line + \" = \" + data[data.index(line) + 1].strip()\n",
    "            if line.endswith(\"(tha V)\"):\n",
    "                count_flag += 1\n",
    "                tha_dongtu = line + \" = \" + data[data.index(line) + 1].strip()\n",
    "            if count_flag == 2:\n",
    "                current_object = result.setdefault(current_kanji, {})\n",
    "                current_object['Kanji'] = current_kanji\n",
    "                current_object['TuDongTu'] = tu_dongtu\n",
    "                current_object['ThaDongTu'] = tha_dongtu\n",
    "                count_flag = 0\n",
    "\n",
    "    return result\n",
    "\n",
    "# Đọc dữ liệu từ file\n",
    "with open('data.txt', 'r', encoding='utf-8') as f:\n",
    "    data = [line.rstrip('\\n') for line in f]\n",
    "\n",
    "# Xử lý dữ liệu\n",
    "json_data = process_data(data)\n",
    "\n",
    "# Ghi dữ liệu vào file JSON\n",
    "with open('output.json', 'w', encoding='utf-8') as f:\n",
    "    json.dump(json_data, f, ensure_ascii=False, indent=4)"
   ]
  }
 ],
 "metadata": {
  "kernelspec": {
   "display_name": "Python 3",
   "language": "python",
   "name": "python3"
  },
  "language_info": {
   "codemirror_mode": {
    "name": "ipython",
    "version": 3
   },
   "file_extension": ".py",
   "mimetype": "text/x-python",
   "name": "python",
   "nbconvert_exporter": "python",
   "pygments_lexer": "ipython3",
   "version": "3.12.1"
  }
 },
 "nbformat": 4,
 "nbformat_minor": 2
}
