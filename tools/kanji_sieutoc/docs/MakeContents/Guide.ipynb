{
 "cells": [
  {
   "cell_type": "code",
   "execution_count": null,
   "metadata": {},
   "outputs": [],
   "source": [
    "import pandas as pd\n",
    "\n",
    "# Đọc file Excel\n",
    "df = pd.read_excel('data.xlsx', sheet_name='Sheet1')\n",
    "\n",
    "# Truy cập giá trị ở hàng thứ 2, cột 'Column_name' (giả sử cột này có nhãn)\n",
    "value = df.loc[1, 'Column_name']  # Lưu ý: index bắt đầu từ 0\n",
    "\n",
    "# Truy cập giá trị ở hàng thứ 3, cột thứ 2 (không cần biết tên cột)\n",
    "value = df.iloc[2, 1]\n",
    "\n",
    "# Lặp qua từng hàng\n",
    "for index, row in df.iterrows():\n",
    "    print(index, row['Column_name'])  # In ra index và giá trị cột 'Column_name' của hàng đó\n",
    "\n",
    "# Lặp qua từng cột\n",
    "for column in df:\n",
    "    print(column, df[column].mean())  # In ra tên cột và giá trị trung bình của cột đó"
   ]
  }
 ],
 "metadata": {
  "language_info": {
   "name": "python"
  }
 },
 "nbformat": 4,
 "nbformat_minor": 2
}
